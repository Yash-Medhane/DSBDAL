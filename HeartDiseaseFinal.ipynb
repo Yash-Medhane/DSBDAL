{
 "cells": [
  {
   "cell_type": "code",
   "execution_count": null,
   "id": "99df2ccd-69da-4489-b7d9-bc5d9cb5fa33",
   "metadata": {},
   "outputs": [],
   "source": [
    "import pandas as pd\n",
    "from sklearn.model_selection import train_test_split\n",
    "from sklearn.preprocessing import StandardScaler, LabelEncoder\n",
    "from sklearn.linear_model import LogisticRegression\n",
    "from sklearn.metrics import accuracy_score"
   ]
  },
  {
   "cell_type": "code",
   "execution_count": null,
   "id": "6052168d-3dfd-4931-9bfb-bc7d8ee6e45f",
   "metadata": {},
   "outputs": [],
   "source": [
    "df = pd.read_csv('data/heartdisease.csv')\n",
    "df.head(5)"
   ]
  },
  {
   "cell_type": "code",
   "execution_count": null,
   "id": "0c393f4b-46c0-449f-b608-166954985585",
   "metadata": {},
   "outputs": [],
   "source": [
    "df.isnull().sum()"
   ]
  },
  {
   "cell_type": "code",
   "execution_count": null,
   "id": "1869bcdd-85a3-464a-ade5-987e2545a294",
   "metadata": {},
   "outputs": [],
   "source": [
    "#Cleaning\n",
    "df = df.dropna()\n",
    "df.isnull().sum()"
   ]
  },
  {
   "cell_type": "code",
   "execution_count": null,
   "id": "25bccf19-0686-4f6d-bbec-3424bf302378",
   "metadata": {},
   "outputs": [],
   "source": [
    "# 2. Integration\n",
    "subset1 = df[['Age', 'Sex', 'Chol']]                         \n",
    "subset2 = df.drop(['Age', 'Sex', 'Chol'], axis=1)            \n",
    "df_integrated = pd.concat([subset1, subset2], axis=1)\n",
    "df_integrated.head(5)"
   ]
  },
  {
   "cell_type": "code",
   "execution_count": null,
   "id": "e3487f73-7c1a-4b5c-b27f-efb356d28d8a",
   "metadata": {},
   "outputs": [],
   "source": [
    "# Add a dummy target column for model building (example logic)\n",
    "# This step is optional if your exam data set not have target field\n",
    "df_integrated['target'] = (df_integrated['Chol'] > 240).astype(int)"
   ]
  },
  {
   "cell_type": "code",
   "execution_count": null,
   "id": "dce0e11f-237b-49e0-ab02-e7fddbf6a3d2",
   "metadata": {},
   "outputs": [],
   "source": [
    "df_integrated.head()"
   ]
  },
  {
   "cell_type": "code",
   "execution_count": null,
   "id": "ecaf9d28-b94c-4609-8735-0b77f8a30168",
   "metadata": {},
   "outputs": [],
   "source": [
    "# Encode categorical columns\n",
    "X = df_integrated.drop('target', axis=1)\n",
    "y = df_integrated['target']\n",
    "for col in X.columns:\n",
    "    if X[col].dtype == 'object':\n",
    "        le = LabelEncoder()\n",
    "        X[col] = le.fit_transform(X[col])"
   ]
  },
  {
   "cell_type": "code",
   "execution_count": null,
   "id": "fd2adb93-ed59-45dc-950d-9bdfa146aa52",
   "metadata": {},
   "outputs": [],
   "source": [
    "#3. Transformation\n",
    "scaler = StandardScaler()\n",
    "X_scaled = scaler.fit_transform(X)\n",
    "X_df = pd.DataFrame(X_scaled, columns=X.columns)"
   ]
  },
  {
   "cell_type": "code",
   "execution_count": null,
   "id": "75af9cad-28f4-48a5-94c6-9eff5e5feee3",
   "metadata": {},
   "outputs": [],
   "source": [
    "# 4. Error Correction \n",
    "if 'chol' in X_df.columns:\n",
    "    X_df['chol'] = X_df['chol'].apply(lambda x: X_df['chol'].mean() if x < 0 else x)"
   ]
  },
  {
   "cell_type": "code",
   "execution_count": null,
   "id": "7fcca193-1c41-4b0f-a068-3b557dfce2db",
   "metadata": {},
   "outputs": [],
   "source": [
    "# 5. Model Building\n",
    "X_train, X_test, y_train, y_test = train_test_split(X_df, y, test_size=0.2, random_state=42)\n",
    "model = LogisticRegression()\n",
    "model.fit(X_train, y_train)\n",
    "y_pred = model.predict(X_test)"
   ]
  },
  {
   "cell_type": "code",
   "execution_count": null,
   "id": "08a9505f-a8fa-4307-a4d5-74bec89f1a26",
   "metadata": {},
   "outputs": [],
   "source": [
    "print(\"Accuracy:\", accuracy_score(y_test, y_pred))"
   ]
  },
  {
   "cell_type": "code",
   "execution_count": null,
   "id": "b754a97f-5e4f-4343-85b1-5aeeb6568c00",
   "metadata": {},
   "outputs": [],
   "source": []
  }
 ],
 "metadata": {
  "kernelspec": {
   "display_name": "Python 3 (ipykernel)",
   "language": "python",
   "name": "python3"
  },
  "language_info": {
   "codemirror_mode": {
    "name": "ipython",
    "version": 3
   },
   "file_extension": ".py",
   "mimetype": "text/x-python",
   "name": "python",
   "nbconvert_exporter": "python",
   "pygments_lexer": "ipython3",
   "version": "3.13.2"
  }
 },
 "nbformat": 4,
 "nbformat_minor": 5
}
