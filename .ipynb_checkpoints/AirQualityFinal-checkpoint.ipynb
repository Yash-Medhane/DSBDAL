{
 "cells": [
  {
   "cell_type": "code",
   "execution_count": null,
   "id": "f70ec59f-eb39-4d4f-bdbe-3cee2c606082",
   "metadata": {},
   "outputs": [],
   "source": [
    "import pandas as pd\n",
    "from sklearn.model_selection import train_test_split\n",
    "from sklearn.preprocessing import LabelEncoder, StandardScaler\n",
    "from sklearn.linear_model import LinearRegression\n",
    "from sklearn.metrics import mean_squared_error, r2_score, accuracy_score"
   ]
  },
  {
   "cell_type": "code",
   "execution_count": null,
   "id": "1f2482d7-1e11-4695-ae71-0bf53f53d777",
   "metadata": {},
   "outputs": [],
   "source": [
    "df = pd.read_csv('data/airquality.csv') \n",
    "print(\"🔹 Original Data:\")\n",
    "print(df.head())"
   ]
  },
  {
   "cell_type": "code",
   "execution_count": null,
   "id": "2c5c785d-11d2-42b1-8158-bb1ef0a09fe3",
   "metadata": {},
   "outputs": [],
   "source": [
    "print(\"\\n🔹 Before Cleaning (Nulls per column):\")\n",
    "print(df.isnull().sum())"
   ]
  },
  {
   "cell_type": "code",
   "execution_count": null,
   "id": "ed5b929e-a8c4-4bc7-bf37-c5383292e5eb",
   "metadata": {},
   "outputs": [],
   "source": [
    "df = df.dropna()\n",
    "\n",
    "print(\"\\n🔹 After Cleaning (Nulls per column):\")\n",
    "print(df.isnull().sum())"
   ]
  },
  {
   "cell_type": "code",
   "execution_count": null,
   "id": "02b0db12-d5ab-4cc5-ae20-c3ae3f7a5afb",
   "metadata": {},
   "outputs": [],
   "source": [
    "columns = ['PM2.5', 'PM10', 'NO', 'NO2', 'NOx', 'NH3', 'CO', 'SO2', 'O3', 'Benzene', 'Toluene', 'Xylene', 'AQI', 'AQI_Bucket']\n",
    "column_new = df['StationId']\n",
    "subset_2 = pd.DataFrame(column_new, columns = ['StationId'])"
   ]
  },
  {
   "cell_type": "code",
   "execution_count": null,
   "id": "0f83d59a-7de2-4c1b-9d84-f78e22102b6c",
   "metadata": {},
   "outputs": [],
   "source": [
    "merged_subset = pd.concat([df[columns], subset_2], axis = 1)"
   ]
  },
  {
   "cell_type": "code",
   "execution_count": null,
   "id": "d01e4325-bd11-45de-baad-1bc6c4d243ef",
   "metadata": {},
   "outputs": [],
   "source": [
    "print(\"\\n🔹 Data After Integration:\")\n",
    "merged_subset.head()"
   ]
  },
  {
   "cell_type": "code",
   "execution_count": null,
   "id": "c009c2c3-5764-4406-8aa5-00da88a1f348",
   "metadata": {},
   "outputs": [],
   "source": [
    "print(\"\\n🔹 Before Error Correction (Negative values count):\")\n",
    "print((df[['PM2.5', 'PM10']] < 0).sum())"
   ]
  },
  {
   "cell_type": "code",
   "execution_count": null,
   "id": "10242afb-ff0a-4a39-ab51-119f25be10d9",
   "metadata": {},
   "outputs": [],
   "source": [
    "df['PM2.5'] = df['PM2.5'].apply(lambda x: df['PM2.5'].mean() if x < 0 else x)\n",
    "df['PM10'] = df['PM10'].apply(lambda x: df['PM10'].mean() if x < 0 else x)"
   ]
  },
  {
   "cell_type": "code",
   "execution_count": null,
   "id": "b8e11304-b318-4c32-aea7-1d9925365366",
   "metadata": {},
   "outputs": [],
   "source": [
    "print(\"\\n🔹 After Error Correction (Negative values count):\")\n",
    "print((df[['PM2.5', 'PM10']] < 0).sum())"
   ]
  },
  {
   "cell_type": "code",
   "execution_count": null,
   "id": "b8256f50-2dd1-42f4-99ba-c9357dfd6f9c",
   "metadata": {},
   "outputs": [],
   "source": [
    "print(\"\\n🔹 Before Encoding:\")\n",
    "print(df['AQI_Bucket'].value_counts())\n",
    "\n",
    "le = LabelEncoder()\n",
    "df['AQI_Bucket'] = le.fit_transform(df['AQI_Bucket'])\n",
    "\n",
    "print(\"\\n🔹 After Encoding:\")\n",
    "print(df['AQI_Bucket'].value_counts())"
   ]
  },
  {
   "cell_type": "code",
   "execution_count": null,
   "id": "b4ea81dc-cd1d-455b-bbe2-ede5e01fb9d4",
   "metadata": {},
   "outputs": [],
   "source": [
    "print(\"\\n🔹 Final Data Before Train-Test Split:\")\n",
    "print(df[['PM2.5', 'PM10', 'AQI_Bucket', 'AQI']].head())"
   ]
  },
  {
   "cell_type": "code",
   "execution_count": null,
   "id": "ebdc305f-b6fd-4302-b8c0-9d81b2623798",
   "metadata": {},
   "outputs": [],
   "source": [
    "X = df[['PM2.5', 'PM10', 'AQI_Bucket']]\n",
    "y = df['AQI']\n",
    "\n",
    "# Train-test split\n",
    "X_train, X_test, y_train, y_test = train_test_split(X, y, test_size=0.2, random_state=42)\n",
    "\n",
    "# Scale PM2.5 and PM10\n",
    "sc = StandardScaler()"
   ]
  },
  {
   "cell_type": "code",
   "execution_count": null,
   "id": "57ff3666-1193-45d4-a9f3-9580885d45ac",
   "metadata": {},
   "outputs": [],
   "source": [
    "print(\"\\n🔹 Before Scaling:\")\n",
    "print(X_train[['PM2.5', 'PM10']].head())\n",
    "\n",
    "X_train[['PM2.5', 'PM10']] = sc.fit_transform(X_train[['PM2.5', 'PM10']])\n",
    "X_test[['PM2.5', 'PM10']] = sc.transform(X_test[['PM2.5', 'PM10']])\n",
    "    \n",
    "print(\"\\n🔹 After Scaling:\")\n",
    "print(X_train[['PM2.5', 'PM10']].head())"
   ]
  },
  {
   "cell_type": "code",
   "execution_count": null,
   "id": "f5191612-a591-4e44-829b-6156f9c2cfcf",
   "metadata": {},
   "outputs": [],
   "source": [
    "lr = LinearRegression()\n",
    "lr.fit(X_train, y_train)"
   ]
  },
  {
   "cell_type": "code",
   "execution_count": null,
   "id": "18ccd7c7-d82f-4b6d-a10c-60b9534cb14e",
   "metadata": {},
   "outputs": [],
   "source": [
    "prediction = lr.predict(X_test)\n",
    "print(\"\\n🔹 Model Evaluation:\")\n",
    "print(\"MSE:\", mean_squared_error(y_test, prediction))\n",
    "print(\"R2 Score:\", r2_score(y_test, prediction))"
   ]
  },
  {
   "cell_type": "code",
   "execution_count": null,
   "id": "be7fa6a0-d1d4-46bf-be69-c0ddb3dd7b58",
   "metadata": {},
   "outputs": [],
   "source": []
  }
 ],
 "metadata": {
  "kernelspec": {
   "display_name": "Python 3 (ipykernel)",
   "language": "python",
   "name": "python3"
  },
  "language_info": {
   "codemirror_mode": {
    "name": "ipython",
    "version": 3
   },
   "file_extension": ".py",
   "mimetype": "text/x-python",
   "name": "python",
   "nbconvert_exporter": "python",
   "pygments_lexer": "ipython3",
   "version": "3.13.2"
  }
 },
 "nbformat": 4,
 "nbformat_minor": 5
}
