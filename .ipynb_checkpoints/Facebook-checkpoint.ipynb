{
 "cells": [
  {
   "cell_type": "code",
   "execution_count": null,
   "id": "d698634f-cbbf-4f35-802b-9c406efc87bb",
   "metadata": {},
   "outputs": [],
   "source": [
    "import pandas as pd\n",
    "import numpy as np"
   ]
  },
  {
   "cell_type": "code",
   "execution_count": null,
   "id": "a0d4dcab-388a-4eb6-b42c-a4b350627718",
   "metadata": {},
   "outputs": [],
   "source": [
    "data = pd.read_csv(\"data/facebook.csv\", sep=';')\n",
    "data.head(5)"
   ]
  },
  {
   "cell_type": "code",
   "execution_count": null,
   "id": "5c3f1544-a61d-48c9-98ce-e8caf70e83db",
   "metadata": {},
   "outputs": [],
   "source": [
    "data.columns"
   ]
  },
  {
   "cell_type": "code",
   "execution_count": null,
   "id": "83c732ef-bcdf-4b57-9ae7-57c5bf34f3db",
   "metadata": {},
   "outputs": [],
   "source": [
    "subset_data = data[['Type','like','comment','share']]\n",
    "subset_data.head(5)"
   ]
  },
  {
   "cell_type": "code",
   "execution_count": null,
   "id": "073dadfe-62ed-4778-9aaf-1bc25db1d2d8",
   "metadata": {},
   "outputs": [],
   "source": [
    "sort_data = subset_data.sort_values(by='like',ascending=False)\n",
    "sort_data.head(5)"
   ]
  },
  {
   "cell_type": "code",
   "execution_count": null,
   "id": "3c08d5ed-b1f3-4b67-bd01-37d252dcb083",
   "metadata": {},
   "outputs": [],
   "source": [
    "transpose_data = sort_data.T\n",
    "transpose_data.head(5)"
   ]
  },
  {
   "cell_type": "code",
   "execution_count": null,
   "id": "b345313e-02a8-4024-abaf-d28bb5e25e7f",
   "metadata": {},
   "outputs": [],
   "source": [
    "d1 = pd.DataFrame({\n",
    "    'id':[1,2,3],\n",
    "    'name':['one','two','three']\n",
    "})\n",
    "d2 = pd.DataFrame({\n",
    "    'id':[1,2,3],\n",
    "    'marks':[70,65,90]\n",
    "})\n",
    "merge_data = pd.merge(d1,d2, on = 'id')\n",
    "merge_data.head(5)"
   ]
  },
  {
   "cell_type": "code",
   "execution_count": null,
   "id": "2204d0bf-4683-4927-8b7e-7719e294614a",
   "metadata": {},
   "outputs": [],
   "source": [
    "row, col = data.shape\n",
    "row, col"
   ]
  },
  {
   "cell_type": "code",
   "execution_count": null,
   "id": "360dd6b0-0072-4e66-ad76-1d8febc5607e",
   "metadata": {},
   "outputs": [],
   "source": [
    "reshape_arr = np.array(data).reshape(-1,19)\n",
    "reshape_arr.shape"
   ]
  },
  {
   "cell_type": "code",
   "execution_count": null,
   "id": "ca2fe0e0-1a67-4713-81f9-708cc8135af7",
   "metadata": {},
   "outputs": [],
   "source": []
  }
 ],
 "metadata": {
  "kernelspec": {
   "display_name": "Python 3 (ipykernel)",
   "language": "python",
   "name": "python3"
  },
  "language_info": {
   "codemirror_mode": {
    "name": "ipython",
    "version": 3
   },
   "file_extension": ".py",
   "mimetype": "text/x-python",
   "name": "python",
   "nbconvert_exporter": "python",
   "pygments_lexer": "ipython3",
   "version": "3.13.2"
  }
 },
 "nbformat": 4,
 "nbformat_minor": 5
}
