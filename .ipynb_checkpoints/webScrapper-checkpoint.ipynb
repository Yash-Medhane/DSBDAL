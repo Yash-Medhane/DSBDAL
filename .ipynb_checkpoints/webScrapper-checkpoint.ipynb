{
 "cells": [
  {
   "cell_type": "code",
   "execution_count": 21,
   "id": "b7726cbc-ab0b-4eaf-8062-ec766f8bea71",
   "metadata": {},
   "outputs": [],
   "source": [
    "#pip install google_play_scraper\n",
    "from google_play_scraper import reviews, Sort\n",
    "import pandas as pd"
   ]
  },
  {
   "cell_type": "code",
   "execution_count": 22,
   "id": "ceb21f38-3153-4e8c-89b4-37ff11bbbbcd",
   "metadata": {},
   "outputs": [],
   "source": [
    "app = \"com.amazon.mShop.android.shopping\"\n",
    "app1 = \"com.flipkart.android\""
   ]
  },
  {
   "cell_type": "code",
   "execution_count": 23,
   "id": "254842c9-5f46-423e-aa25-ae18f2e5f1fe",
   "metadata": {},
   "outputs": [],
   "source": [
    "data, _ = reviews(\n",
    "    app1,\n",
    "    lang='en',\n",
    "    country='us',\n",
    "    sort=Sort.NEWEST,\n",
    "    count=100\n",
    ")"
   ]
  },
  {
   "cell_type": "code",
   "execution_count": 24,
   "id": "ff652e21-d987-4668-865f-04307e731707",
   "metadata": {},
   "outputs": [
    {
     "name": "stdout",
     "output_type": "stream",
     "text": [
      "Total reviews fetched: 100\n"
     ]
    }
   ],
   "source": [
    "print(\"Total reviews fetched:\", len(data))"
   ]
  },
  {
   "cell_type": "code",
   "execution_count": 25,
   "id": "c92e60ee-1433-4130-812a-e66c61c2409e",
   "metadata": {},
   "outputs": [],
   "source": [
    "df = pd.DataFrame(data)[['userName', 'score', 'content', 'at']]\n",
    "df.columns = ['Customer Name', 'Rating', 'Review', 'Date']"
   ]
  },
  {
   "cell_type": "code",
   "execution_count": 26,
   "id": "9a2e283d-487d-4ded-ac58-860b77c0f33d",
   "metadata": {},
   "outputs": [],
   "source": [
    "df['Tag'] = df['Rating'].apply(lambda x: 'Positive' if x >= 4 else 'Neutral' if x == 3 else 'Negative')"
   ]
  },
  {
   "cell_type": "code",
   "execution_count": 27,
   "id": "9fde2bf6-eff0-4167-bd47-87cf5af2189f",
   "metadata": {},
   "outputs": [],
   "source": [
    "# filename = f\"{app}_reviews.csv\"\n",
    "# df.to_csv(filename, index=False)"
   ]
  },
  {
   "cell_type": "code",
   "execution_count": 28,
   "id": "29d19738-82c5-4909-9003-c6bd892bc440",
   "metadata": {},
   "outputs": [
    {
     "data": {
      "text/html": [
       "<div>\n",
       "<style scoped>\n",
       "    .dataframe tbody tr th:only-of-type {\n",
       "        vertical-align: middle;\n",
       "    }\n",
       "\n",
       "    .dataframe tbody tr th {\n",
       "        vertical-align: top;\n",
       "    }\n",
       "\n",
       "    .dataframe thead th {\n",
       "        text-align: right;\n",
       "    }\n",
       "</style>\n",
       "<table border=\"1\" class=\"dataframe\">\n",
       "  <thead>\n",
       "    <tr style=\"text-align: right;\">\n",
       "      <th></th>\n",
       "      <th>Customer Name</th>\n",
       "      <th>Rating</th>\n",
       "      <th>Review</th>\n",
       "      <th>Date</th>\n",
       "      <th>Tag</th>\n",
       "    </tr>\n",
       "  </thead>\n",
       "  <tbody>\n",
       "    <tr>\n",
       "      <th>0</th>\n",
       "      <td>Akram</td>\n",
       "      <td>5</td>\n",
       "      <td>product achcha hai</td>\n",
       "      <td>2025-05-30 19:14:30</td>\n",
       "      <td>Positive</td>\n",
       "    </tr>\n",
       "    <tr>\n",
       "      <th>1</th>\n",
       "      <td>Babu Dalal</td>\n",
       "      <td>4</td>\n",
       "      <td>not bad !</td>\n",
       "      <td>2025-05-30 19:14:19</td>\n",
       "      <td>Positive</td>\n",
       "    </tr>\n",
       "    <tr>\n",
       "      <th>2</th>\n",
       "      <td>Sathish R</td>\n",
       "      <td>4</td>\n",
       "      <td>super</td>\n",
       "      <td>2025-05-30 19:14:08</td>\n",
       "      <td>Positive</td>\n",
       "    </tr>\n",
       "    <tr>\n",
       "      <th>3</th>\n",
       "      <td>Saraswati Mangar</td>\n",
       "      <td>4</td>\n",
       "      <td>good</td>\n",
       "      <td>2025-05-30 19:13:12</td>\n",
       "      <td>Positive</td>\n",
       "    </tr>\n",
       "    <tr>\n",
       "      <th>4</th>\n",
       "      <td>Tatyaso Gavandhare</td>\n",
       "      <td>5</td>\n",
       "      <td>best</td>\n",
       "      <td>2025-05-30 19:12:06</td>\n",
       "      <td>Positive</td>\n",
       "    </tr>\n",
       "  </tbody>\n",
       "</table>\n",
       "</div>"
      ],
      "text/plain": [
       "        Customer Name  Rating              Review                Date  \\\n",
       "0               Akram       5  product achcha hai 2025-05-30 19:14:30   \n",
       "1          Babu Dalal       4           not bad ! 2025-05-30 19:14:19   \n",
       "2           Sathish R       4               super 2025-05-30 19:14:08   \n",
       "3    Saraswati Mangar       4                good 2025-05-30 19:13:12   \n",
       "4  Tatyaso Gavandhare       5                best 2025-05-30 19:12:06   \n",
       "\n",
       "        Tag  \n",
       "0  Positive  \n",
       "1  Positive  \n",
       "2  Positive  \n",
       "3  Positive  \n",
       "4  Positive  "
      ]
     },
     "execution_count": 28,
     "metadata": {},
     "output_type": "execute_result"
    }
   ],
   "source": [
    "df.head(5)"
   ]
  },
  {
   "cell_type": "code",
   "execution_count": null,
   "id": "8fcd024f-98d3-44d9-95b5-7c95474f7699",
   "metadata": {},
   "outputs": [],
   "source": []
  }
 ],
 "metadata": {
  "kernelspec": {
   "display_name": "Python 3 (ipykernel)",
   "language": "python",
   "name": "python3"
  },
  "language_info": {
   "codemirror_mode": {
    "name": "ipython",
    "version": 3
   },
   "file_extension": ".py",
   "mimetype": "text/x-python",
   "name": "python",
   "nbconvert_exporter": "python",
   "pygments_lexer": "ipython3",
   "version": "3.13.2"
  }
 },
 "nbformat": 4,
 "nbformat_minor": 5
}
